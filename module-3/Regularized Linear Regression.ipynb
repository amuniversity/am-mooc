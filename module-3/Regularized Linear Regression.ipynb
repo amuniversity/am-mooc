{
 "cells": [
  {
   "cell_type": "markdown",
   "metadata": {},
   "source": [
    "## Regularized Linear Regression\n",
    "----\n",
    "Hopefully, by now you have understood the intuition behind Regularized Linear Regression and the purpose of the lambda value. \n",
    "\n",
    "The goal of this exercise is to help you qualitatively understand how changing lambda-values impact the model accuracy. By going through this exercise, you will be able to get a visual idea of how different lambda values affect the model. Make sure you go through the exercise fully and understand what is going on. Feel free to change the lambda values to get a sense of how the model's generalizability is affected.\n",
    "\n",
    "Data source: http://openclassroom.stanford.edu/MainFolder/DocumentPage.php?course=MachineLearning&doc=exercises/ex5/ex5.html\n",
    "\n",
    "----"
   ]
  },
  {
   "cell_type": "code",
   "execution_count": 46,
   "metadata": {
    "collapsed": true
   },
   "outputs": [],
   "source": [
    "# import libraries\n",
    "\n",
    "import matplotlib\n",
    "import IPython\n",
    "import numpy as np\n",
    "import pandas as pd\n",
    "import matplotlib.pyplot as plt\n",
    "import matplotlib as mpl\n",
    "import pylab\n",
    "import seaborn as sns\n",
    "import sklearn as sk\n",
    "\n",
    "%matplotlib inline"
   ]
  },
  {
   "cell_type": "code",
   "execution_count": 47,
   "metadata": {
    "collapsed": false
   },
   "outputs": [],
   "source": [
    "# Load your data here\n",
    "x_values = pd.read_csv('ex5Linx.dat', sep='\\s+', header=None, skiprows=1)\n",
    "y_values = pd.read_csv('ex5Liny.dat', sep='\\s+', header=None, skiprows=1)\n"
   ]
  },
  {
   "cell_type": "markdown",
   "metadata": {},
   "source": [
    "To perform Ridge Regression, we will use another module called Ridge that has similar methods to Linear Regression. The first argument that Ridge takes is the lambda-value. Below, there are three different Ridge Regression models that have lambda values of 0, 1, and respectively. You are free to choose different values. First, we will plot our model's prediction when the lambda-value is 0. This is identical to Non-regularized Linear Regression."
   ]
  },
  {
   "cell_type": "code",
   "execution_count": 48,
   "metadata": {
    "collapsed": false
   },
   "outputs": [
    {
     "data": {
      "text/plain": [
       "[<matplotlib.lines.Line2D at 0x10f525410>]"
      ]
     },
     "execution_count": 48,
     "metadata": {},
     "output_type": "execute_result"
    },
    {
     "data": {
      "image/png": "[encoded data removed]",
      "text/plain": [
       "<matplotlib.figure.Figure at 0x11004ead0>"
      ]
     },
     "metadata": {},
     "output_type": "display_data"
    }
   ],
   "source": [
    "from sklearn.linear_model import Ridge\n",
    "from sklearn.preprocessing import PolynomialFeatures\n",
    "from sklearn.pipeline import make_pipeline\n",
    "\n",
    "# lambda value of 0\n",
    "ridge_reg_0 = make_pipeline(PolynomialFeatures(6), Ridge(alpha=0))\n",
    "\n",
    "ridge_reg_0.fit(x_values, y_values)\n",
    "y_predicted = ridge_reg_0.predict(x_values)\n",
    "\n",
    "plt.scatter(x_values,y_values,c='r')\n",
    "plt.plot(x_values, y_predicted, c='b')"
   ]
  },
  {
   "cell_type": "markdown",
   "metadata": {},
   "source": [
    "It is fairly obvious that this model is overfitting on the data. This is where regularization, more specifically the lambda-value comes into the picture. By increasing the lambda-value, we start penalizing overly complex modules and move towards a more generalizable model."
   ]
  },
  {
   "cell_type": "code",
   "execution_count": 49,
   "metadata": {
    "collapsed": false
   },
   "outputs": [
    {
     "data": {
      "text/plain": [
       "[<matplotlib.lines.Line2D at 0x103d42f10>]"
      ]
     },
     "execution_count": 49,
     "metadata": {},
     "output_type": "execute_result"
    },
    {
     "data": {
      "image/png": "[encoded data removed]",
      "text/plain": [
       "<matplotlib.figure.Figure at 0x10f525810>"
      ]
     },
     "metadata": {},
     "output_type": "display_data"
    }
   ],
   "source": [
    "# lambda value of 0.8\n",
    "ridge_reg_1 = make_pipeline(PolynomialFeatures(6), Ridge(alpha=0.8))\n",
    "ridge_reg_1.fit(x_values, y_values)\n",
    "y_predicted = ridge_reg_1.predict(x_values)\n",
    "\n",
    "plt.scatter(x_values,y_values,c='r')\n",
    "plt.plot(x_values, y_predicted, c='b')\n"
   ]
  },
  {
   "cell_type": "markdown",
   "metadata": {},
   "source": [
    "With a lambda-value of 1, notice the drastic change in the model. All the conditions are the same as before except for the lambda-value which is now 1 instead of 0. However, that change has reduced the complexity of the model and it does not seem to be overfitting like the previous model. By seeing this diagram, it should help build the intuition as to how the lambda-value affects a model. Now the question is, does increasing the lambda-value always guarantee a better model? Think about this question before you move onto the last part of the exercise."
   ]
  },
  {
   "cell_type": "code",
   "execution_count": 50,
   "metadata": {
    "collapsed": false
   },
   "outputs": [
    {
     "data": {
      "text/plain": [
       "[<matplotlib.lines.Line2D at 0x103d1a150>]"
      ]
     },
     "execution_count": 50,
     "metadata": {},
     "output_type": "execute_result"
    },
    {
     "data": {
      "image/png": "[encoded data removed]",
      "text/plain": [
       "<matplotlib.figure.Figure at 0x10f6dcc50>"
      ]
     },
     "metadata": {},
     "output_type": "display_data"
    }
   ],
   "source": [
    "# lambda value of 8\n",
    "ridge_reg_10 = make_pipeline(PolynomialFeatures(6), Ridge(alpha=20))\n",
    "ridge_reg_10.fit(x_values, y_values)\n",
    "y_predicted = ridge_reg_10.predict(x_values)\n",
    "\n",
    "plt.scatter(x_values,y_values,c='r')\n",
    "plt.plot(x_values, y_predicted, c='b')"
   ]
  },
  {
   "cell_type": "markdown",
   "metadata": {},
   "source": [
    "As you can see, increasing the lambda-value does not guarantee a more successful model. Recall the error equation that was presented in the slides.  When the lambda-value is increased, the model complexity term dominates the training error term. In other words, the model is oversimplified and results in underfitting (opposite of overfitting). "
   ]
  },
  {
   "cell_type": "markdown",
   "metadata": {},
   "source": [
    "### Optional DIY Learning Exercise\n",
    "----\n",
    "Hopefully, by now, you understand the concept of Regularized Linear Regression. We now have an optional coding exercise for you to try on your own time. \n",
    "\n",
    "Given the modified version of the Boston Housing Data from the previous modules, try to apply Ridge Regression to this data and determine the optimal lambda-value using K-fold Cross-Validation. For reference, you can use the pseudocode given in the Module 3b slides. Good luck!\n"
   ]
  }
 ],
 "metadata": {
  "kernelspec": {
   "display_name": "Python 2",
   "language": "python",
   "name": "python2"
  },
  "language_info": {
   "codemirror_mode": {
    "name": "ipython",
    "version": 2
   },
   "file_extension": ".py",
   "mimetype": "text/x-python",
   "name": "python",
   "nbconvert_exporter": "python",
   "pygments_lexer": "ipython2",
   "version": "2.7.11"
  }
 },
 "nbformat": 4,
 "nbformat_minor": 0
}
